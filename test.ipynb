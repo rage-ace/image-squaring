{
 "cells": [
  {
   "cell_type": "code",
   "execution_count": null,
   "metadata": {
    "collapsed": true
   },
   "outputs": [],
   "source": [
    "print('f')\n"
   ]
  },
  {
   "cell_type": "code",
   "execution_count": 1,
   "outputs": [
    {
     "ename": "FileNotFoundError",
     "evalue": "[Errno 2] No such file or directory: '20221209_135902.jpg'",
     "output_type": "error",
     "traceback": [
      "\u001B[1;31m---------------------------------------------------------------------------\u001B[0m",
      "\u001B[1;31mFileNotFoundError\u001B[0m                         Traceback (most recent call last)",
      "Cell \u001B[1;32mIn[1], line 4\u001B[0m\n\u001B[0;32m      1\u001B[0m \u001B[38;5;28;01mfrom\u001B[39;00m \u001B[38;5;21;01mPIL\u001B[39;00m \u001B[38;5;28;01mimport\u001B[39;00m Image\n\u001B[0;32m      3\u001B[0m portrait \u001B[38;5;241m=\u001B[39m Image\u001B[38;5;241m.\u001B[39mopen(\u001B[38;5;124m'\u001B[39m\u001B[38;5;124m20221207_144500.jpg\u001B[39m\u001B[38;5;124m'\u001B[39m)\n\u001B[1;32m----> 4\u001B[0m landscape \u001B[38;5;241m=\u001B[39m \u001B[43mImage\u001B[49m\u001B[38;5;241;43m.\u001B[39;49m\u001B[43mopen\u001B[49m\u001B[43m(\u001B[49m\u001B[38;5;124;43m'\u001B[39;49m\u001B[38;5;124;43m20221209_135902.jpg\u001B[39;49m\u001B[38;5;124;43m'\u001B[39;49m\u001B[43m)\u001B[49m\n\u001B[0;32m      5\u001B[0m \u001B[38;5;66;03m# reso = im.size\u001B[39;00m\n\u001B[0;32m      6\u001B[0m \u001B[38;5;66;03m# reso\u001B[39;00m\n",
      "File \u001B[1;32mc:\\users\\tzh\\documents\\github\\image-squaring\\venv\\lib\\site-packages\\PIL\\Image.py:3227\u001B[0m, in \u001B[0;36mopen\u001B[1;34m(fp, mode, formats)\u001B[0m\n\u001B[0;32m   3224\u001B[0m     filename \u001B[38;5;241m=\u001B[39m fp\n\u001B[0;32m   3226\u001B[0m \u001B[38;5;28;01mif\u001B[39;00m filename:\n\u001B[1;32m-> 3227\u001B[0m     fp \u001B[38;5;241m=\u001B[39m \u001B[43mbuiltins\u001B[49m\u001B[38;5;241;43m.\u001B[39;49m\u001B[43mopen\u001B[49m\u001B[43m(\u001B[49m\u001B[43mfilename\u001B[49m\u001B[43m,\u001B[49m\u001B[43m \u001B[49m\u001B[38;5;124;43m\"\u001B[39;49m\u001B[38;5;124;43mrb\u001B[39;49m\u001B[38;5;124;43m\"\u001B[39;49m\u001B[43m)\u001B[49m\n\u001B[0;32m   3228\u001B[0m     exclusive_fp \u001B[38;5;241m=\u001B[39m \u001B[38;5;28;01mTrue\u001B[39;00m\n\u001B[0;32m   3230\u001B[0m \u001B[38;5;28;01mtry\u001B[39;00m:\n",
      "\u001B[1;31mFileNotFoundError\u001B[0m: [Errno 2] No such file or directory: '20221209_135902.jpg'"
     ]
    }
   ],
   "source": [
    "from PIL import Image\n",
    "\n",
    "portrait = Image.open('20221207_144500.jpg')\n",
    "landscape = Image.open('20221209_135902.jpg')\n",
    "# reso = im.size\n",
    "# reso"
   ],
   "metadata": {
    "collapsed": false,
    "pycharm": {
     "name": "#%%\n"
    }
   }
  },
  {
   "cell_type": "code",
   "execution_count": 14,
   "outputs": [
    {
     "data": {
      "text/plain": "({256: 4624,\n  257: 3468,\n  296: 2,\n  34665: 226,\n  271: 'samsung',\n  272: 'SM-A536E',\n  305: 'A536EXXS4AVJ1',\n  274: 6,\n  306: '2022:12:07 14:45:00',\n  531: 1,\n  282: 72.0,\n  283: 72.0,\n  36864: b'0220',\n  37377: 0.01,\n  37378: 1.69,\n  36867: '2022:12:07 14:45:00',\n  36868: '2022:12:07 14:45:00',\n  37379: 3.97,\n  37380: 0.0,\n  37381: 1.69,\n  37383: 2,\n  37385: 0,\n  37386: 5.23,\n  40961: 1,\n  40962: 4624,\n  41988: 1.0,\n  41989: 24,\n  41990: 0,\n  36880: '+09:00',\n  36881: '+09:00',\n  40963: 3468,\n  33434: 0.01,\n  33437: 1.8,\n  42016: 'F64ESNGR0SM',\n  34850: 2,\n  34855: 50,\n  41986: 0,\n  41987: 0},\n {256: 4624,\n  257: 3468,\n  296: 2,\n  34665: 226,\n  271: 'samsung',\n  272: 'SM-A536E',\n  305: 'A536EXXU4BVK1',\n  274: 1,\n  306: '2022:12:09 13:59:02',\n  531: 1,\n  282: 72.0,\n  283: 72.0,\n  36864: b'0220',\n  37377: 0.002881844380403458,\n  37378: 1.69,\n  36867: '2022:12:09 13:59:02',\n  36868: '2022:12:09 13:59:02',\n  37379: 6.1,\n  37380: 0.0,\n  37381: 1.69,\n  37383: 2,\n  37385: 0,\n  37386: 5.23,\n  40961: 1,\n  40962: 4624,\n  41988: 1.0,\n  41989: 24,\n  41990: 0,\n  36880: '+09:00',\n  36881: '+09:00',\n  37520: '0236',\n  37521: '0236',\n  37522: '0236',\n  40963: 3468,\n  33434: 0.002881844380403458,\n  33437: 1.8,\n  42016: 'F64ESNGR0SM',\n  34850: 2,\n  34855: 50,\n  41986: 0,\n  41987: 0})"
     },
     "execution_count": 14,
     "metadata": {},
     "output_type": "execute_result"
    }
   ],
   "source": [
    "portrait._getexif(), landscape._getexif()"
   ],
   "metadata": {
    "collapsed": false,
    "pycharm": {
     "name": "#%%\n"
    }
   }
  },
  {
   "cell_type": "code",
   "execution_count": 3,
   "outputs": [
    {
     "data": {
      "text/plain": "4624"
     },
     "execution_count": 3,
     "metadata": {},
     "output_type": "execute_result"
    }
   ],
   "source": [
    "sq_reso = max(reso)\n",
    "sq_reso"
   ],
   "metadata": {
    "collapsed": false,
    "pycharm": {
     "name": "#%%\n"
    }
   }
  },
  {
   "cell_type": "code",
   "execution_count": 4,
   "outputs": [],
   "source": [
    "bg_im = Image.new('RGBA', (sq_reso, sq_reso), (255, 255, 255, 255))\n",
    "bg_im.save('bg.png')\n"
   ],
   "metadata": {
    "collapsed": false,
    "pycharm": {
     "name": "#%%\n"
    }
   }
  },
  {
   "cell_type": "code",
   "execution_count": 1,
   "outputs": [],
   "source": [
    "from PIL import Image\n",
    "from PIL.ExifTags import TAGS\n",
    "\n",
    "portrait2 = Image.open('images/portrait.jpg')\n",
    "landscape2 = Image.open('images/landscape.jpg')\n",
    "\n",
    "# extracting the exif metadata\n",
    "exifdata_p = portrait2.getexif()\n",
    "exifdata_l = landscape2.getexif()"
   ],
   "metadata": {
    "collapsed": false,
    "pycharm": {
     "name": "#%%\n"
    }
   }
  },
  {
   "cell_type": "code",
   "execution_count": null,
   "outputs": [],
   "source": [
    "# looping through all the tags present in exifdata\n",
    "for tagid in exifdata:\n",
    "\n",
    "    # getting the tag name instead of tag id\n",
    "    tagname = TAGS.get(tagid, tagid)\n",
    "\n",
    "    # passing the tagid to get its respective value\n",
    "    value = exifdata.get(tagid)\n",
    "\n",
    "    # printing the final result\n",
    "    print(f\"{tagname:25}: {value}\")"
   ],
   "metadata": {
    "collapsed": false,
    "pycharm": {
     "name": "#%%\n"
    }
   }
  },
  {
   "cell_type": "code",
   "execution_count": 9,
   "outputs": [
    {
     "data": {
      "text/plain": "(90, 0)"
     },
     "execution_count": 9,
     "metadata": {},
     "output_type": "execute_result"
    }
   ],
   "source": [
    "# https://sirv.com/help/articles/rotate-photos-to-be-upright/"
   ],
   "metadata": {
    "collapsed": false,
    "pycharm": {
     "name": "#%%\n"
    }
   }
  },
  {
   "cell_type": "code",
   "execution_count": 7,
   "outputs": [],
   "source": [
    "def get_orientation(im: Image) -> int:\n",
    "    try:\n",
    "        exif = im._getexif()\n",
    "        orientation = exif.get(274)\n",
    "        if orientation == 3:\n",
    "            return 180\n",
    "        elif orientation == 6:\n",
    "            return 90\n",
    "        elif orientation == 8:\n",
    "            return 270\n",
    "        else:\n",
    "            return 0\n",
    "    except AttributeError:\n",
    "        return -1"
   ],
   "metadata": {
    "collapsed": false,
    "pycharm": {
     "name": "#%%\n"
    }
   }
  },
  {
   "cell_type": "code",
   "execution_count": 10,
   "outputs": [
    {
     "data": {
      "text/plain": "(90, 0)"
     },
     "execution_count": 10,
     "metadata": {},
     "output_type": "execute_result"
    }
   ],
   "source": [
    "get_orientation(portrait2), get_orientation(landscape2)"
   ],
   "metadata": {
    "collapsed": false,
    "pycharm": {
     "name": "#%%\n"
    }
   }
  }
 ],
 "metadata": {
  "kernelspec": {
   "display_name": "Python 3",
   "language": "python",
   "name": "python3"
  },
  "language_info": {
   "codemirror_mode": {
    "name": "ipython",
    "version": 2
   },
   "file_extension": ".py",
   "mimetype": "text/x-python",
   "name": "python",
   "nbconvert_exporter": "python",
   "pygments_lexer": "ipython2",
   "version": "2.7.6"
  }
 },
 "nbformat": 4,
 "nbformat_minor": 0
}